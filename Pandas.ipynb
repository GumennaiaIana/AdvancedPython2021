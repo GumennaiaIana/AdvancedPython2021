{
 "cells": [
  {
   "cell_type": "code",
   "execution_count": 60,
   "id": "authentic-realtor",
   "metadata": {},
   "outputs": [],
   "source": [
    "import pandas as pd\n",
    "import numpy as np"
   ]
  },
  {
   "cell_type": "markdown",
   "id": "brutal-implement",
   "metadata": {},
   "source": [
    "## Задание 1. Ocean"
   ]
  },
  {
   "cell_type": "code",
   "execution_count": 61,
   "id": "final-enforcement",
   "metadata": {
    "scrolled": false
   },
   "outputs": [
    {
     "name": "stdout",
     "output_type": "stream",
     "text": [
      "4 6\n",
      "1 4 4 2 1 1\n",
      "0 0 1 0 -1 -1\n",
      "-2 -3 -1 -5 -6 -4\n",
      "-1 -3 -3 -4 -4 -2\n",
      "1\n",
      "40\n",
      "4\n"
     ]
    }
   ],
   "source": [
    "N, M = map(int, (input().split()))\n",
    "Map = [np.array(((input().split())), dtype = int) for _ in range(N)]\n",
    "df = pd.DataFrame(Map)\n",
    "print(((df < -5).astype(int)).values.sum())\n",
    "print(int(df[df < 0].fillna(0).values.sum())*(-1))\n",
    "print(df.values.max())"
   ]
  },
  {
   "cell_type": "markdown",
   "id": "smart-indonesian",
   "metadata": {},
   "source": [
    "## Задание 2. Neuronet"
   ]
  },
  {
   "cell_type": "code",
   "execution_count": 108,
   "id": "ready-modeling",
   "metadata": {
    "scrolled": true
   },
   "outputs": [
    {
     "name": "stdout",
     "output_type": "stream",
     "text": [
      "C:\\Users\\gunen\\OneDrive\\Рабочий стол\\инфа\\pandas\\A.txt\n",
      "C:\\Users\\gunen\\OneDrive\\Рабочий стол\\инфа\\pandas\\b.txt\n",
      "0.5 0.1 0.5\n",
      "0.0275\n"
     ]
    }
   ],
   "source": [
    "matrix = input()\n",
    "vector = input()\n",
    "X = input()\n",
    "with open(matrix) as A, open(vector) as b:\n",
    "    matrix_A = np.array([np.array((line.split()), dtype = float) for line in A])\n",
    "    vector_b = np.array([np.array((line.split()), dtype = float) for line in b]).T\n",
    "    matrix_A2 = matrix_A @ matrix_A\n",
    "    vector_X = np.array([np.array((X.split()), dtype = float)])\n",
    "    print(round((vector_X @ matrix_A2 @ vector_b)[0][0],15)) "
   ]
  },
  {
   "cell_type": "markdown",
   "id": "editorial-signal",
   "metadata": {},
   "source": [
    "## Задание 3. Gamestats"
   ]
  },
  {
   "cell_type": "code",
   "execution_count": 178,
   "id": "polish-contamination",
   "metadata": {
    "scrolled": true
   },
   "outputs": [
    {
     "name": "stdout",
     "output_type": "stream",
     "text": [
      "           name  mean_rating\n",
      "Darkest Dungeon        9.000\n",
      "         XCOM 2        8.867\n",
      " Civilization V        8.333\n",
      "company  rating_sum\n",
      "Firaxis        17.2\n"
     ]
    }
   ],
   "source": [
    "df_games = pd.read_csv('C:/Users/gunen/OneDrive/Рабочий стол/инфа/pandas/games.csv', sep=';')\n",
    "df_rates =  pd.read_csv('C:/Users/gunen/OneDrive/Рабочий стол/инфа/pandas/rates.csv', sep=';')\n",
    "df = df_games.copy() \n",
    "\n",
    "df['mean_rating'] = [round(df_rates[(df_rates['id'] == id)]['mark'].mean(), 3) for id in df['id']]\n",
    "df1 = df.sort_values(by ='mean_rating', ascending=False).iloc[0:3][['name', 'mean_rating']].to_string(index=False)\n",
    "print(df1)\n",
    "df['rating_sum'] = [df[df['company'] == company]['mean_rating'].sum() for company in df['company']]\n",
    "df2 = df.sort_values(by ='rating_sum', ascending=False).iloc[0:1][['company', 'rating_sum']].to_string(index=False)\n",
    "print(df2)"
   ]
  }
 ],
 "metadata": {
  "kernelspec": {
   "display_name": "Python 3",
   "language": "python",
   "name": "python3"
  },
  "language_info": {
   "codemirror_mode": {
    "name": "ipython",
    "version": 3
   },
   "file_extension": ".py",
   "mimetype": "text/x-python",
   "name": "python",
   "nbconvert_exporter": "python",
   "pygments_lexer": "ipython3",
   "version": "3.9.2"
  }
 },
 "nbformat": 4,
 "nbformat_minor": 5
}
