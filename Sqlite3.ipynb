{
 "cells": [
  {
   "cell_type": "code",
   "execution_count": 11,
   "id": "announced-transfer",
   "metadata": {},
   "outputs": [],
   "source": [
    "import sqlite3"
   ]
  },
  {
   "cell_type": "code",
   "execution_count": 55,
   "id": "molecular-hormone",
   "metadata": {},
   "outputs": [],
   "source": [
    "from datetime import date"
   ]
  },
  {
   "cell_type": "code",
   "execution_count": 18,
   "id": "charitable-single",
   "metadata": {},
   "outputs": [],
   "source": [
    "connection = sqlite3.connect('library')\n",
    "cursor = connection.cursor()"
   ]
  },
  {
   "cell_type": "code",
   "execution_count": 19,
   "id": "private-precipitation",
   "metadata": {},
   "outputs": [
    {
     "ename": "OperationalError",
     "evalue": "table Book already exists",
     "output_type": "error",
     "traceback": [
      "\u001b[1;31m---------------------------------------------------------------------------\u001b[0m",
      "\u001b[1;31mOperationalError\u001b[0m                          Traceback (most recent call last)",
      "\u001b[1;32m<ipython-input-19-53e3c601e13b>\u001b[0m in \u001b[0;36m<module>\u001b[1;34m\u001b[0m\n\u001b[1;32m----> 1\u001b[1;33m cursor.execute(\n\u001b[0m\u001b[0;32m      2\u001b[0m     '''\n\u001b[0;32m      3\u001b[0m     CREATE TABLE Book(\n\u001b[0;32m      4\u001b[0m         \u001b[0mid\u001b[0m \u001b[0mINT\u001b[0m \u001b[0mPRIMARY\u001b[0m \u001b[0mKEY\u001b[0m \u001b[0mNOT\u001b[0m \u001b[0mNULL\u001b[0m\u001b[1;33m,\u001b[0m\u001b[1;33m\u001b[0m\u001b[1;33m\u001b[0m\u001b[0m\n\u001b[0;32m      5\u001b[0m         \u001b[0mtitle\u001b[0m \u001b[0mTEXT\u001b[0m\u001b[1;33m,\u001b[0m\u001b[1;33m\u001b[0m\u001b[1;33m\u001b[0m\u001b[0m\n",
      "\u001b[1;31mOperationalError\u001b[0m: table Book already exists"
     ]
    }
   ],
   "source": [
    "cursor.execute(\n",
    "    '''\n",
    "    CREATE TABLE Book(\n",
    "        id INT PRIMARY KEY NOT NULL,\n",
    "        title TEXT,\n",
    "        author TEXT,\n",
    "        publish_year INT\n",
    "    )\n",
    "    '''\n",
    ")\n",
    "\n",
    "cursor.execute(\n",
    "    '''\n",
    "    INSERT INTO Book VALUES\n",
    "    (1, 'Harry Potter and the Philosopher''s Stone', 'J. K. Rowling', 1997),\n",
    "    (2, 'Методы решения задач в общем курсе физики, Механика', 'Корявов В.П.', 2007),\n",
    "    (3, 'Batman: Gotham by Gaslight', 'Brian Augustyn, Mike Mignola', 1989),\n",
    "    (4, 'Мёртвые души', 'Н. В. Гоголь', 1842),\n",
    "    (5, 'The Running Man', 'Richard Bachman', 1982)\n",
    "    '''\n",
    ")"
   ]
  },
  {
   "cell_type": "code",
   "execution_count": 4,
   "id": "metric-crossing",
   "metadata": {},
   "outputs": [
    {
     "data": {
      "text/plain": [
       "<sqlite3.Cursor at 0x5d78c60>"
      ]
     },
     "execution_count": 4,
     "metadata": {},
     "output_type": "execute_result"
    }
   ],
   "source": [
    "cursor.execute(\n",
    "    '''\n",
    "    CREATE TABLE Reader(\n",
    "        id INT PRIMARY KEY NOT NULL,\n",
    "        name TEXT\n",
    "    )\n",
    "    '''\n",
    ")\n",
    "\n",
    "cursor.execute(\n",
    "    '''\n",
    "    INSERT INTO Reader VALUES\n",
    "    (1, 'V.V. Petrovich'),\n",
    "    (2, 'Alexanderr'),\n",
    "    (3, 'Arkadiy Svidrigaylov'),\n",
    "    (4, 'Vitalya'),\n",
    "    (5, 'Noname')\n",
    "    '''\n",
    ")"
   ]
  },
  {
   "cell_type": "code",
   "execution_count": 10,
   "id": "sustained-beaver",
   "metadata": {
    "scrolled": true
   },
   "outputs": [
    {
     "ename": "OperationalError",
     "evalue": "table Record already exists",
     "output_type": "error",
     "traceback": [
      "\u001b[1;31m---------------------------------------------------------------------------\u001b[0m",
      "\u001b[1;31mOperationalError\u001b[0m                          Traceback (most recent call last)",
      "\u001b[1;32m<ipython-input-10-cdd62d26ebc6>\u001b[0m in \u001b[0;36m<module>\u001b[1;34m\u001b[0m\n\u001b[1;32m----> 1\u001b[1;33m cursor.execute(\n\u001b[0m\u001b[0;32m      2\u001b[0m     '''\n\u001b[0;32m      3\u001b[0m     CREATE TABLE Record(\n\u001b[0;32m      4\u001b[0m         \u001b[0mid\u001b[0m \u001b[0mINT\u001b[0m \u001b[0mPRIMARY\u001b[0m \u001b[0mKEY\u001b[0m \u001b[0mNOT\u001b[0m \u001b[0mNULL\u001b[0m\u001b[1;33m,\u001b[0m\u001b[1;33m\u001b[0m\u001b[1;33m\u001b[0m\u001b[0m\n\u001b[0;32m      5\u001b[0m         \u001b[0mreader_id\u001b[0m \u001b[0mINT\u001b[0m \u001b[0mREFERENCES\u001b[0m \u001b[0mReaders\u001b[0m\u001b[1;33m(\u001b[0m\u001b[0mid\u001b[0m\u001b[1;33m)\u001b[0m \u001b[0mNOT\u001b[0m \u001b[0mNULL\u001b[0m\u001b[1;33m,\u001b[0m\u001b[1;33m\u001b[0m\u001b[1;33m\u001b[0m\u001b[0m\n",
      "\u001b[1;31mOperationalError\u001b[0m: table Record already exists"
     ]
    }
   ],
   "source": [
    "cursor.execute(\n",
    "    '''\n",
    "    CREATE TABLE Record(\n",
    "        id INT PRIMARY KEY NOT NULL,\n",
    "        reader_id INT REFERENCES Readers(id) NOT NULL,\n",
    "        book_id INT REFERENCES Books(id) NOT NULL,\n",
    "        taking_date TEXT,\n",
    "        returning_date TEXT\n",
    "    )\n",
    "    '''\n",
    ")"
   ]
  },
  {
   "cell_type": "code",
   "execution_count": 8,
   "id": "overall-singer",
   "metadata": {},
   "outputs": [
    {
     "data": {
      "text/plain": [
       "<sqlite3.Cursor at 0x5d78c60>"
      ]
     },
     "execution_count": 8,
     "metadata": {},
     "output_type": "execute_result"
    }
   ],
   "source": [
    "cursor.execute(\n",
    "    '''\n",
    "    INSERT INTO Record VALUES\n",
    "    (1, 3, 4, '1842-02-14', '1842-07-01'),\n",
    "    (2, 4, 4, '1996-10-26', NULL),\n",
    "    (3, 1, 2, '2006-06-13', '2006-06-14'),\n",
    "    (4, 1, 1, '2006-06-14', '2006-06-15'),\n",
    "    (5, 1, 3, '2006-06-15', '2006-07-20'),\n",
    "    (6, 2, 5, '1985-10-11', '1987-12-25'),\n",
    "    (7, 5, 3, '2001-03-15', NULL),\n",
    "    (8, 5, 3, '2002-09-19', '2002-09-25')\n",
    "    '''\n",
    ")"
   ]
  },
  {
   "cell_type": "markdown",
   "id": "champion-ecology",
   "metadata": {},
   "source": [
    "### 1) Вывести список книг."
   ]
  },
  {
   "cell_type": "code",
   "execution_count": 22,
   "id": "metallic-equation",
   "metadata": {},
   "outputs": [],
   "source": [
    "def books_list():\n",
    "    A = []\n",
    "    for row in cursor.execute(\"SELECT * FROM Book\"):\n",
    "        A.append(row)\n",
    "    return A"
   ]
  },
  {
   "cell_type": "code",
   "execution_count": 23,
   "id": "golden-culture",
   "metadata": {},
   "outputs": [
    {
     "data": {
      "text/plain": [
       "[(1, \"Harry Potter and the Philosopher's Stone\", 'J. K. Rowling', 1997),\n",
       " (2,\n",
       "  'Методы решения задач в общем курсе физики, Механика',\n",
       "  'Корявов В.П.',\n",
       "  2007),\n",
       " (3, 'Batman: Gotham by Gaslight', 'Brian Augustyn, Mike Mignola', 1989),\n",
       " (4, 'Мёртвые души', 'Н. В. Гоголь', 1842),\n",
       " (5, 'The Running Man', 'Richard Bachman', 1982)]"
      ]
     },
     "execution_count": 23,
     "metadata": {},
     "output_type": "execute_result"
    }
   ],
   "source": [
    "books_list()"
   ]
  },
  {
   "cell_type": "markdown",
   "id": "higher-hamilton",
   "metadata": {},
   "source": [
    "### 2) Вывести список читателей."
   ]
  },
  {
   "cell_type": "code",
   "execution_count": 24,
   "id": "chinese-category",
   "metadata": {},
   "outputs": [],
   "source": [
    "def readers_list():\n",
    "    A = []\n",
    "    for row in cursor.execute(\"SELECT * FROM Reader\"):\n",
    "        A.append(row)\n",
    "    return A"
   ]
  },
  {
   "cell_type": "code",
   "execution_count": 25,
   "id": "quick-mozambique",
   "metadata": {},
   "outputs": [
    {
     "data": {
      "text/plain": [
       "[(1, 'V.V. Petrovich'),\n",
       " (2, 'Alexanderr'),\n",
       " (3, 'Arkadiy Svidrigaylov'),\n",
       " (4, 'Vitalya'),\n",
       " (5, 'Noname')]"
      ]
     },
     "execution_count": 25,
     "metadata": {},
     "output_type": "execute_result"
    }
   ],
   "source": [
    "readers_list()"
   ]
  },
  {
   "cell_type": "markdown",
   "id": "turkish-faculty",
   "metadata": {},
   "source": [
    "### 3) Добавить книгу."
   ]
  },
  {
   "cell_type": "code",
   "execution_count": 26,
   "id": "variable-simple",
   "metadata": {},
   "outputs": [],
   "source": [
    "def insert_book(book_info):\n",
    "    connection = sqlite3.connect(\"library\")\n",
    "    with connection:\n",
    "        connection.execute(\"INSERT OR IGNORE INTO Book VALUES(?, ?, ?, ?)\", book_info)\n",
    "        connection.commit()"
   ]
  },
  {
   "cell_type": "code",
   "execution_count": 27,
   "id": "abroad-implement",
   "metadata": {},
   "outputs": [],
   "source": [
    "insert_book((6, 'The Silent Don', 'M. Sholokhov', 1940))"
   ]
  },
  {
   "cell_type": "code",
   "execution_count": 28,
   "id": "ruled-arena",
   "metadata": {},
   "outputs": [
    {
     "data": {
      "text/plain": [
       "[(1, \"Harry Potter and the Philosopher's Stone\", 'J. K. Rowling', 1997),\n",
       " (2,\n",
       "  'Методы решения задач в общем курсе физики, Механика',\n",
       "  'Корявов В.П.',\n",
       "  2007),\n",
       " (3, 'Batman: Gotham by Gaslight', 'Brian Augustyn, Mike Mignola', 1989),\n",
       " (4, 'Мёртвые души', 'Н. В. Гоголь', 1842),\n",
       " (5, 'The Running Man', 'Richard Bachman', 1982),\n",
       " (6, 'The Silent Don', 'M. Sholokhov', 1940)]"
      ]
     },
     "execution_count": 28,
     "metadata": {},
     "output_type": "execute_result"
    }
   ],
   "source": [
    "books_list()"
   ]
  },
  {
   "cell_type": "markdown",
   "id": "external-tournament",
   "metadata": {},
   "source": [
    "### 4) Добавить читателя."
   ]
  },
  {
   "cell_type": "code",
   "execution_count": 29,
   "id": "spoken-houston",
   "metadata": {},
   "outputs": [],
   "source": [
    "def insert_reader(reader_info):\n",
    "    connection = sqlite3.connect(\"library\")\n",
    "    with connection:\n",
    "        connection.execute(\"INSERT OR IGNORE INTO Reader VALUES(?, ?)\", reader_info)\n",
    "        connection.commit()"
   ]
  },
  {
   "cell_type": "code",
   "execution_count": 30,
   "id": "conscious-alloy",
   "metadata": {},
   "outputs": [],
   "source": [
    "insert_reader((6, 'Nastya'))"
   ]
  },
  {
   "cell_type": "code",
   "execution_count": 31,
   "id": "cognitive-payment",
   "metadata": {},
   "outputs": [
    {
     "data": {
      "text/plain": [
       "[(1, 'V.V. Petrovich'),\n",
       " (2, 'Alexanderr'),\n",
       " (3, 'Arkadiy Svidrigaylov'),\n",
       " (4, 'Vitalya'),\n",
       " (5, 'Noname'),\n",
       " (6, 'Nastya')]"
      ]
     },
     "execution_count": 31,
     "metadata": {},
     "output_type": "execute_result"
    }
   ],
   "source": [
    "readers_list()"
   ]
  },
  {
   "cell_type": "markdown",
   "id": "moved-volleyball",
   "metadata": {},
   "source": [
    "### 5) Выдать книгу читателю."
   ]
  },
  {
   "cell_type": "code",
   "execution_count": 32,
   "id": "homeless-witness",
   "metadata": {},
   "outputs": [],
   "source": [
    "def records_list():\n",
    "    A = []\n",
    "    for row in cursor.execute(\"SELECT * FROM Record\"):\n",
    "        A.append(row)\n",
    "    return A"
   ]
  },
  {
   "cell_type": "code",
   "execution_count": 51,
   "id": "progressive-reading",
   "metadata": {},
   "outputs": [],
   "source": [
    "def give_book(id, reader_id, book_id, returning_date = None, conn=connection):\n",
    "    cursor.execute(\n",
    "    \"INSERT INTO Record VALUES (?,?,?,?,?)\", (id, reader_id, book_id, str(date.today()), returning_date)\n",
    "    )\n",
    "    conn.commit()"
   ]
  },
  {
   "cell_type": "code",
   "execution_count": 48,
   "id": "loved-sunrise",
   "metadata": {
    "scrolled": true
   },
   "outputs": [
    {
     "data": {
      "text/plain": [
       "[(1, 3, 4, '1842-02-14', '1842-07-01'),\n",
       " (2, 4, 4, '1996-10-26', None),\n",
       " (3, 1, 2, '2006-06-13', '2006-06-14'),\n",
       " (4, 1, 1, '2006-06-14', '2006-06-15'),\n",
       " (5, 1, 3, '2006-06-15', '2006-07-20'),\n",
       " (6, 2, 5, '1985-10-11', '1987-12-25'),\n",
       " (7, 5, 3, '2001-03-15', None),\n",
       " (8, 5, 3, '2002-09-19', '2002-09-25')]"
      ]
     },
     "execution_count": 48,
     "metadata": {},
     "output_type": "execute_result"
    }
   ],
   "source": [
    "records_list()"
   ]
  },
  {
   "cell_type": "code",
   "execution_count": 56,
   "id": "unlikely-ground",
   "metadata": {},
   "outputs": [],
   "source": [
    "give_book(9, 1, 1)"
   ]
  },
  {
   "cell_type": "code",
   "execution_count": 57,
   "id": "competent-democrat",
   "metadata": {},
   "outputs": [
    {
     "data": {
      "text/plain": [
       "[(1, 3, 4, '1842-02-14', '1842-07-01'),\n",
       " (2, 4, 4, '1996-10-26', None),\n",
       " (3, 1, 2, '2006-06-13', '2006-06-14'),\n",
       " (4, 1, 1, '2006-06-14', '2006-06-15'),\n",
       " (5, 1, 3, '2006-06-15', '2006-07-20'),\n",
       " (6, 2, 5, '1985-10-11', '1987-12-25'),\n",
       " (7, 5, 3, '2001-03-15', None),\n",
       " (8, 5, 3, '2002-09-19', '2002-09-25'),\n",
       " (9, 1, 1, '2022-03-24', None)]"
      ]
     },
     "execution_count": 57,
     "metadata": {},
     "output_type": "execute_result"
    }
   ],
   "source": [
    "records_list()"
   ]
  },
  {
   "cell_type": "markdown",
   "id": "discrete-administrator",
   "metadata": {},
   "source": [
    "### 6) Принять книгу."
   ]
  },
  {
   "cell_type": "code",
   "execution_count": 53,
   "id": "maritime-fortune",
   "metadata": {},
   "outputs": [],
   "source": [
    "def take_book(id, conn=connection):\n",
    "    cursor.execute(\"UPDATE Record SET returning_date = (?) where id = (?)\", (str(date.today()), id))\n",
    "    conn.commit()"
   ]
  },
  {
   "cell_type": "code",
   "execution_count": 58,
   "id": "incorporate-greenhouse",
   "metadata": {},
   "outputs": [],
   "source": [
    "take_book(7)"
   ]
  },
  {
   "cell_type": "code",
   "execution_count": 59,
   "id": "russian-qualification",
   "metadata": {},
   "outputs": [
    {
     "data": {
      "text/plain": [
       "[(1, 3, 4, '1842-02-14', '1842-07-01'),\n",
       " (2, 4, 4, '1996-10-26', None),\n",
       " (3, 1, 2, '2006-06-13', '2006-06-14'),\n",
       " (4, 1, 1, '2006-06-14', '2006-06-15'),\n",
       " (5, 1, 3, '2006-06-15', '2006-07-20'),\n",
       " (6, 2, 5, '1985-10-11', '1987-12-25'),\n",
       " (7, 5, 3, '2001-03-15', '2022-03-24'),\n",
       " (8, 5, 3, '2002-09-19', '2002-09-25'),\n",
       " (9, 1, 1, '2022-03-24', None)]"
      ]
     },
     "execution_count": 59,
     "metadata": {},
     "output_type": "execute_result"
    }
   ],
   "source": [
    "records_list()"
   ]
  }
 ],
 "metadata": {
  "kernelspec": {
   "display_name": "Python 3",
   "language": "python",
   "name": "python3"
  },
  "language_info": {
   "codemirror_mode": {
    "name": "ipython",
    "version": 3
   },
   "file_extension": ".py",
   "mimetype": "text/x-python",
   "name": "python",
   "nbconvert_exporter": "python",
   "pygments_lexer": "ipython3",
   "version": "3.9.2"
  }
 },
 "nbformat": 4,
 "nbformat_minor": 5
}
