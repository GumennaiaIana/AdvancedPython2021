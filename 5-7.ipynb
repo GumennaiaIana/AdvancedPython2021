{
 "cells": [
  {
   "cell_type": "code",
   "execution_count": 1,
   "id": "forced-facial",
   "metadata": {},
   "outputs": [],
   "source": [
    "import numpy as np"
   ]
  },
  {
   "cell_type": "markdown",
   "id": "shaped-annex",
   "metadata": {},
   "source": [
    "## Задание 5"
   ]
  },
  {
   "cell_type": "markdown",
   "id": "annual-impression",
   "metadata": {},
   "source": [
    "В векторе x надо заполнить каждый нулевой элемент предыдущим ненулевым значением."
   ]
  },
  {
   "cell_type": "code",
   "execution_count": 9,
   "id": "burning-funds",
   "metadata": {},
   "outputs": [
    {
     "name": "stdout",
     "output_type": "stream",
     "text": [
      "[  8.    8.    8.    1.    1.    1.    1.  -17.5 -17.5]\n"
     ]
    }
   ],
   "source": [
    "x = np.array([8, 0, 0, 1, 0, 0, 0, -17.5, 0])\n",
    "y = np.arange(len(x))\n",
    "y[x == 0] = 0\n",
    "y = np.maximum.accumulate(y)\n",
    "print (x[y])"
   ]
  },
  {
   "cell_type": "markdown",
   "id": "living-speed",
   "metadata": {},
   "source": [
    "## Задание 6"
   ]
  },
  {
   "cell_type": "markdown",
   "id": "limiting-responsibility",
   "metadata": {},
   "source": [
    "Надо вычислить приближённое значение функции f(x) = ln(1 + x) в точке x0 с помощью разложения в ряд Тейлора N-го порядка в окрестности нуля.\n",
    "\n"
   ]
  },
  {
   "cell_type": "code",
   "execution_count": 17,
   "id": "understood-tribute",
   "metadata": {},
   "outputs": [
    {
     "name": "stdout",
     "output_type": "stream",
     "text": [
      "ln(1+0.010000) = 0.009950\n"
     ]
    }
   ],
   "source": [
    "x0=0.01\n",
    "N=1000\n",
    "\n",
    "a = np.arange(1, N+1)\n",
    "def Taylor(x0, n):\n",
    "    return ((-1)**(n+1))*(x0**n)/n\n",
    "y = Taylor(x0, a).sum()\n",
    "print('ln(1+%f) = %f' %(x0, y))"
   ]
  },
  {
   "cell_type": "markdown",
   "id": "athletic-cheat",
   "metadata": {},
   "source": [
    "## Задание 7"
   ]
  },
  {
   "cell_type": "markdown",
   "id": "finished-motion",
   "metadata": {},
   "source": [
    "Дана матрица X «объекты-признаки» размера m x n: число строк m — это количество объектов, а число столбцов n — количество признаков. Каждая строка представляет собой описание объекта выборки в виде набора значений его признаков. Каждый же столбец содержит значения определённого признака на всех объектах выборки. Надо найти выборочное среднее и ковариационную матрицу выборки X, не пользуясь специальными numpy функциями mean и cov."
   ]
  },
  {
   "cell_type": "code",
   "execution_count": 24,
   "id": "binary-responsibility",
   "metadata": {},
   "outputs": [
    {
     "name": "stdout",
     "output_type": "stream",
     "text": [
      "выборочное среднее:\n",
      " [73.33333333  4.66666667]\n",
      "выборочное среднее по спец. функции \"mean\":\n",
      " [73.33333333  4.66666667]\n",
      "ковариационная матрица выборки:\n",
      " [[7758.33333333  -43.33333333]\n",
      " [ -43.33333333    9.33333333]]\n",
      "ковариационная матрица выборки по спец. функции \"cov\":\n",
      " [[7758.33333333  -43.33333333]\n",
      " [ -43.33333333    9.33333333]]\n"
     ]
    }
   ],
   "source": [
    "x = np.array([[175, 4], [20, 2], [25, 8]]) \n",
    "\n",
    "summ = x.sum(axis=0)\n",
    "m=1\n",
    "m, n = x.shape\n",
    "mean = summ/m\n",
    "print('выборочное среднее:\\n', mean)\n",
    "print ('выборочное среднее по спец. функции \"mean\":\\n', np.mean(x, axis=0))\n",
    "\n",
    "deviation = x - np.reshape(np.repeat(mean, m), (n,-1)).T\n",
    "Q = np.dot(deviation.T, deviation)/(m-1)\n",
    "print('ковариационная матрица выборки:\\n', Q)\n",
    "print ('ковариационная матрица выборки по спец. функции \"cov\":\\n', np.cov(x.T))"
   ]
  }
 ],
 "metadata": {
  "kernelspec": {
   "display_name": "Python 3",
   "language": "python",
   "name": "python3"
  },
  "language_info": {
   "codemirror_mode": {
    "name": "ipython",
    "version": 3
   },
   "file_extension": ".py",
   "mimetype": "text/x-python",
   "name": "python",
   "nbconvert_exporter": "python",
   "pygments_lexer": "ipython3",
   "version": "3.9.2"
  }
 },
 "nbformat": 4,
 "nbformat_minor": 5
}
